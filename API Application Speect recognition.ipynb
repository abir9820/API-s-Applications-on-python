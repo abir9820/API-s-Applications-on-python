{
 "cells": [
  {
   "cell_type": "code",
   "execution_count": 4,
   "id": "0f75ed40",
   "metadata": {},
   "outputs": [
    {
     "name": "stdout",
     "output_type": "stream",
     "text": [
      "Speak\n",
      "I Said: hello I love cricket\n"
     ]
    }
   ],
   "source": [
    "import speech_recognition as sr\n",
    "#get the audio from Microphone\n",
    "r=sr.Recognizer()\n",
    "with sr.Microphone() as source:\n",
    "    print(\"Speak\")\n",
    "    audio=r.listen(source)\n",
    "#try to use google speech recognition API to Convert audio to text\n",
    "#Catch and report Errors if applicable\n",
    "try:\n",
    "    txt=r.recognize_google(audio)\n",
    "    print(\"I Said:\",txt)\n",
    "except sr.UnknownValueError:\n",
    "    print(\"Could not understand audio\")\n",
    "except sr.RequestError as e:\n",
    "    print(\"could not request results; {0}\",format(e))\n"
   ]
  },
  {
   "cell_type": "code",
   "execution_count": null,
   "id": "ac96f459",
   "metadata": {},
   "outputs": [],
   "source": []
  },
  {
   "cell_type": "code",
   "execution_count": null,
   "id": "c6ba91f0",
   "metadata": {},
   "outputs": [],
   "source": []
  }
 ],
 "metadata": {
  "kernelspec": {
   "display_name": "Python 3",
   "language": "python",
   "name": "python3"
  },
  "language_info": {
   "codemirror_mode": {
    "name": "ipython",
    "version": 3
   },
   "file_extension": ".py",
   "mimetype": "text/x-python",
   "name": "python",
   "nbconvert_exporter": "python",
   "pygments_lexer": "ipython3",
   "version": "3.8.8"
  }
 },
 "nbformat": 4,
 "nbformat_minor": 5
}
